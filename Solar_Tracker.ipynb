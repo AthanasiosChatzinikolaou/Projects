{
 "cells": [
  {
   "cell_type": "markdown",
   "metadata": {},
   "source": [
    "# Solar Azimuth and Zenith Tracker\n",
    "\n",
    "## Chapter 1\n",
    "\n",
    "This is the first app of a series, where i create simple apps to improve my programming skills.\n",
    "\n",
    "An application which tracks the sun according to the latitude and longtitude or the address (defined by google) of the location. Based on stackoverflow answers."
   ]
  },
  {
   "cell_type": "code",
   "execution_count": 35,
   "metadata": {},
   "outputs": [
    {
     "name": "stdout",
     "output_type": "stream",
     "text": [
      "Enter: 1 for address, 2 for coordinates, 0 for defaults: 1\n",
      "1\n"
     ]
    }
   ],
   "source": [
    "#import astropy\n",
    "import astropy.coordinates as coord\n",
    "import astropy.units as u\n",
    "from astropy.time import Time\n",
    "#from astropy.coordinates import get_sun, AltAz, EarthLocation\n",
    "\n",
    "#import utc time now\n",
    "from datetime import datetime,timezone\n",
    "now_utc = datetime.now(timezone.utc)\n",
    "\n",
    "#ask user if coordinates or address\n",
    "while True:\n",
    "    try:\n",
    "        selector = int(input('Enter: 1 for address, 2 for coordinates, 0 for defaults: '))\n",
    "        break\n",
    "    except:\n",
    "        print('Not Valid, Enter: 1 for address, 2 for coordinates, 3 for defaults: ')\n",
    "print(selector)"
   ]
  },
  {
   "cell_type": "code",
   "execution_count": 36,
   "metadata": {},
   "outputs": [
    {
     "name": "stdout",
     "output_type": "stream",
     "text": [
      "Enter an address: \n",
      "The address is: Stirling UK\n"
     ]
    }
   ],
   "source": [
    "#Option 0: defaults\n",
    "if selector == 0: \n",
    "    longt,latit,hei = 0,0,0\n",
    "    print('Longtitude:',longt , 'Latitude:',latit,'Height:',hei)\n",
    "    \n",
    "#Option 1: ask user an address\n",
    "#Work in progress for wrong addresses\n",
    "if selector == 1:\n",
    "    name = input('Enter an address: ')\n",
    "    if name == '':\n",
    "        name = 'Stirling UK'\n",
    "    print('The address is:', name)\n",
    "\n",
    "#Option 2: ask user an address\n",
    "if selector == 2 :\n",
    "    try:\n",
    "        longt = int(input('Enter longtitude or 0 for default: '))\n",
    "        if longt == 0 : longt = 0\n",
    "        latit = int(input('Enter latitude or 0 for default: '))\n",
    "        if latit == 0 : latit = 0\n",
    "        hei = int(input('Enter height or 0 for default: '))\n",
    "        if hei == 0 : hei = 0\n",
    "        print('Longtitude:',longt , 'Latitude:',latit,'Height:',hei)\n",
    "    except:\n",
    "        longt,latit,hei = 0,0,0\n",
    "        print('Longtitude:',longt , 'Latitude:',latit,'Height:',hei)"
   ]
  },
  {
   "cell_type": "code",
   "execution_count": 42,
   "metadata": {},
   "outputs": [
    {
     "name": "stdout",
     "output_type": "stream",
     "text": [
      "1\n",
      "Geocentric coordinates <<Earth diameter = 6.371km>> (-1081932.44719753, 6285690.01465716, -12400.55449409) m\n",
      "Sun Altitude Degrees (above 0 day) -65d40m18.0338s\n",
      "Sun Altitude Degrees (above 0 day) -65d40m18.0188s\n",
      "Sun Azimuth Degrees              : 155d40m18.0188s\n"
     ]
    }
   ],
   "source": [
    "sun_time = Time(now_utc) #UTC time\n",
    "if selector == 1:\n",
    "    print('Selector: ',selector)\n",
    "    loc = coord.EarthLocation.of_address('name') # anything the google geocoding API resolves\n",
    "if (selector == 2) or (selector == 0):\n",
    "    print('Selector: ',selector)\n",
    "    loc = coord.EarthLocation(lon=longt,lat=latit,height=hei)\n",
    "\n",
    "print('Geocentric coordinates <<Earth diameter = 6.371km>>',loc)\n",
    "\n",
    "altaz = coord.AltAz(obstime=sun_time, location=loc)\n",
    "zen_ang = coord.get_sun(sun_time).transform_to(altaz).zen\n",
    "zen_alt = coord.get_sun(sun_time).transform_to(altaz).alt\n",
    "\n",
    "print('Sun Altitude Degrees (above 0 day)',zen_alt)\n",
    "print('Sun Azimuth Degrees              :',zen_ang)"
   ]
  }
 ],
 "metadata": {
  "kernelspec": {
   "display_name": "Python 3",
   "language": "python",
   "name": "python3"
  },
  "language_info": {
   "codemirror_mode": {
    "name": "ipython",
    "version": 3
   },
   "file_extension": ".py",
   "mimetype": "text/x-python",
   "name": "python",
   "nbconvert_exporter": "python",
   "pygments_lexer": "ipython3",
   "version": "3.7.9"
  }
 },
 "nbformat": 4,
 "nbformat_minor": 4
}
