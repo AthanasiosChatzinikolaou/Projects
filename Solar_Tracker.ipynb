{
 "cells": [
  {
   "cell_type": "markdown",
   "metadata": {},
   "source": [
    "# Solar Azimuth and Zenith Tracker\n",
    "\n",
    "## Version 2 (Slow Edition)\n",
    "\n",
    "This is the first app of a series, where i create simple apps to improve my programming skills.\n",
    "\n",
    "An application which tracks the sun according to the latitude and longtitude or the address (defined by google) of the location. Based on stackoverflow answers.\n",
    "\n",
    "\n",
    "Test for Stirling Scotland, Sydney Australia, Quito Ecuador"
   ]
  },
  {
   "cell_type": "markdown",
   "metadata": {},
   "source": [
    "## Asking user for location"
   ]
  },
  {
   "cell_type": "code",
   "execution_count": 90,
   "metadata": {},
   "outputs": [
    {
     "name": "stdout",
     "output_type": "stream",
     "text": [
      "Enter: 1 for address, 2 for coordinates, 0 for defaults: quito ecuador\n",
      "Not Valid, Enter: 1 for address, 2 for coordinates, 3 for defaults: \n",
      "Enter: 1 for address, 2 for coordinates, 0 for defaults: 1\n",
      "Enter an address: quito ecuador\n",
      "The address is: quito ecuador\n"
     ]
    }
   ],
   "source": [
    "#import astropy\n",
    "import astropy.coordinates as coord\n",
    "import astropy.units as u\n",
    "from astropy.time import Time\n",
    "\n",
    "#import random and math libraries\n",
    "import math as m\n",
    "import random as r\n",
    "\n",
    "#import Angles convertor + numpy\n",
    "from astropy.coordinates import Angle\n",
    "import numpy as np\n",
    "\n",
    "#import utc time now\n",
    "from datetime import datetime,timezone,timedelta \n",
    "now_utc = datetime.now(timezone.utc)\n",
    "\n",
    "#import pandas\n",
    "import pandas as pd\n",
    "\n",
    "#ask user: coordinates or address\n",
    "while True:\n",
    "    try:\n",
    "        selector = int(input('Enter: 1 for address, 2 for coordinates, 0 for defaults: '))\n",
    "        break\n",
    "    except:\n",
    "        print('Not Valid, Enter: 1 for address, 2 for coordinates, 3 for defaults: ')\n",
    "#print(selector)\n",
    "\n",
    "#Option 0: defaults\n",
    "if selector == 0: \n",
    "    longt,latit,hei = 0,0,0\n",
    "    print('Longtitude:',longt , 'Latitude:',latit,'Height:',hei)\n",
    "    \n",
    "#Option 1: ask user an address\n",
    "#Work in progress for wrong addresses\n",
    "if selector == 1:\n",
    "    name = input('Enter an address: ')\n",
    "    if name == '':\n",
    "        name = 'Stirling UK'\n",
    "    print('The address is:', name)\n",
    "\n",
    "#Option 2: ask user an address\n",
    "if selector == 2 :\n",
    "    try:\n",
    "        longt = int(input('Enter longtitude or 0 for default: '))\n",
    "        if longt == 0 : longt = 0\n",
    "        latit = int(input('Enter latitude or 0 for default: '))\n",
    "        if latit == 0 : latit = 0\n",
    "        hei = int(input('Enter height or 0 for default: '))\n",
    "        if hei == 0 : hei = 0\n",
    "        print('Longtitude:',longt , 'Latitude:',latit,'Height:',hei)\n",
    "    except:\n",
    "        longt,latit,hei = 0,0,0\n",
    "        print('Longtitude:',longt , 'Latitude:',latit,'Height:',hei)"
   ]
  },
  {
   "cell_type": "code",
   "execution_count": 91,
   "metadata": {},
   "outputs": [
    {
     "name": "stdout",
     "output_type": "stream",
     "text": [
      "Geocentric coordinates <<Earth diameter = 6371km>> x(greenwith),y(),z(North Pole) (1270241.92358368, -6250321.62380727, -24344.42721293) m\n"
     ]
    }
   ],
   "source": [
    "sun_time = Time(now_utc) #UTC time\n",
    "if selector == 1:\n",
    "    #print('Selector: ',selector)\n",
    "    loc = coord.EarthLocation.of_address(name) # anything the google geocoding API resolves\n",
    "if (selector == 2) or (selector == 0):\n",
    "    #print('Selector: ',selector)\n",
    "    loc = coord.EarthLocation(lon=longt,lat=latit,height=hei)\n",
    "\n",
    "print('Geocentric coordinates <<Earth diameter = 6371km>> x(greenwith),y(),z(North Pole)',loc)"
   ]
  },
  {
   "cell_type": "markdown",
   "metadata": {},
   "source": [
    "## Finding the sun, for every 30 min, for a year. for default settings"
   ]
  },
  {
   "cell_type": "code",
   "execution_count": 92,
   "metadata": {},
   "outputs": [
    {
     "name": "stdout",
     "output_type": "stream",
     "text": [
      "2020-12-21 06:25:07.576154\n",
      "Sun Elevation  Degrees now (above 0 day): -60d27m15.8093s\n",
      "Sun Azimuth    Degrees now              : 144d25m24.2269s\n",
      "Warning Long Computations\n",
      "Select number of datapoints (integer) for solar reading, choose 0 for default 17520 point : 0\n",
      "Select minutes (integer) between each solar reading, choose 0 for default 30 minutes : 0\n"
     ]
    }
   ],
   "source": [
    "sun_test_Time = Time(now_utc)\n",
    "print(sun_test_Time)\n",
    "altaz = coord.AltAz(obstime=sun_time, location=loc)\n",
    "#help(altaz)\n",
    "zen_az = coord.get_sun(sun_time).transform_to(altaz).az\n",
    "zen_alt = coord.get_sun(sun_time).transform_to(altaz).alt\n",
    "\n",
    "\n",
    "print('Sun Elevation  Degrees now (above 0 day):',zen_alt)\n",
    "print('Sun Azimuth    Degrees now              :',zen_az)\n",
    "\n",
    "# year = 365 days * 24 hours * 60 minutes = (minute definition)\n",
    "# year = 365 days * 24 hours (hours definition)\n",
    "# initiallizing lists and the timescale of study\n",
    "print('Warning Long Computations')\n",
    "while True:\n",
    "    try:\n",
    "        time_range_mine = int(input('Select number of datapoints (integer) for solar reading, choose 0 for default 17520 point : '))\n",
    "        if time_range_mine == 0:\n",
    "            time_range_mine = 17520\n",
    "        break\n",
    "    except:\n",
    "        print('Enter an integer or 0')\n",
    "        \n",
    "while True:\n",
    "    try:\n",
    "        delta_min = int(input('Select minutes (integer) between each solar reading, choose 0 for default 30 minutes : '))\n",
    "        if delta_min == 0:\n",
    "            delta_min = 30\n",
    "        break\n",
    "    except:\n",
    "        print('Enter an integer or 0')\n",
    "        \n",
    "# TAKES A LOT OF TIME\n",
    "sun_az = []\n",
    "sun_alt = []\n",
    "time_points = []\n",
    "#minutes\n",
    "for timepoint in range(time_range_mine):\n",
    "    #delta of hours\n",
    "    #\n",
    "    past_date_before = Time(now_utc) - timedelta(minutes = (delta_min * timepoint))\n",
    "    #print(past_date_before)\n",
    "    altaz = coord.AltAz(obstime=past_date_before, location=loc)\n",
    "    sun_az.append(coord.get_sun(past_date_before).transform_to(altaz).az)\n",
    "    sun_alt.append(coord.get_sun(past_date_before).transform_to(altaz).alt)\n",
    "    time_points.append(past_date_before)\n",
    "    #print('Sun Elevation Degrees (above 0 day):',zen_alt)\n",
    "    #print('Sun  Azimuth  Degrees              :',zen_ang)\n",
    "\n",
    "#converting lists to pandas     \n",
    "sun_tuple = list(zip(sun_az,sun_alt,time_points))\n",
    "sun_df = pd.DataFrame(sun_tuple, columns=['Azimuth','Elevation','Time'])"
   ]
  },
  {
   "cell_type": "markdown",
   "metadata": {},
   "source": [
    "## Before and after angle transformation"
   ]
  },
  {
   "cell_type": "code",
   "execution_count": 93,
   "metadata": {},
   "outputs": [
    {
     "name": "stdout",
     "output_type": "stream",
     "text": [
      "           Azimuth        Elevation                        Time\n",
      "0  144d25m24.2269s  -60d27m15.8093s  2020-12-21 06:25:07.576154\n",
      "1  156d56m49.9644s  -64d09m03.3942s  2020-12-21 05:55:07.576154\n",
      "2  172d39m54.1489s  -66d08m13.3375s  2020-12-21 05:25:07.576154\n",
      "3  189d39m45.1753s  -65d58m58.4144s  2020-12-21 04:55:07.576154\n",
      "4   205d00m17.325s  -63d43m34.5208s  2020-12-21 04:25:07.576154\n",
      "   Azimuth Elevation                        Time\n",
      "0  144.423  -60.4544  2020-12-21 06:25:07.576154\n",
      "1  156.947  -64.1509  2020-12-21 05:55:07.576154\n",
      "2  172.665   -66.137  2020-12-21 05:25:07.576154\n",
      "3  189.663  -65.9829  2020-12-21 04:55:07.576154\n",
      "4  205.005  -63.7263  2020-12-21 04:25:07.576154\n"
     ]
    },
    {
     "data": {
      "text/plain": [
       "<AxesSubplot:>"
      ]
     },
     "execution_count": 93,
     "metadata": {},
     "output_type": "execute_result"
    },
    {
     "data": {
      "image/png": "[encoded data removed]",
      "text/plain": [
       "<Figure size 432x288 with 1 Axes>"
      ]
     },
     "metadata": {
      "needs_background": "light"
     },
     "output_type": "display_data"
    }
   ],
   "source": [
    "print(sun_df.head())\n",
    "sun_df2 = sun_df.copy()\n",
    "\n",
    "#print(type(sun_df2['Azimuth'][0]))\n",
    "#var_test = Angle(sun_df2['Azimuth'][0]).degree\n",
    "#print(var_test)\n",
    "for i in range(len(sun_df2.index)):\n",
    "    sun_df2['Azimuth'][i] = Angle(sun_df2['Azimuth'][i]).degree\n",
    "    sun_df2['Elevation'][i] = Angle(sun_df2['Elevation'][i]).degree\n",
    "#print(type(sun_df2['Azimuth'][0]))\n",
    "#print(type(sun_df2['Time'][0]))\n",
    "print(sun_df2.head())\n",
    "#create graph\n",
    "%matplotlib inline\n",
    "sun_df2['Elevation'].plot()"
   ]
  },
  {
   "cell_type": "code",
   "execution_count": 97,
   "metadata": {},
   "outputs": [
    {
     "data": {
      "text/plain": [
       "<AxesSubplot:>"
      ]
     },
     "execution_count": 97,
     "metadata": {},
     "output_type": "execute_result"
    },
    {
     "data": {
      "image/png": "[encoded data removed]",
      "text/plain": [
       "<Figure size 432x288 with 1 Axes>"
      ]
     },
     "metadata": {
      "needs_background": "light"
     },
     "output_type": "display_data"
    }
   ],
   "source": [
    "sun_df2['Azimuth'].plot()"
   ]
  },
  {
   "cell_type": "code",
   "execution_count": 96,
   "metadata": {},
   "outputs": [
    {
     "name": "stdout",
     "output_type": "stream",
     "text": [
      "Timepoints with light : 8762 Timepoints of whole Year : 17520\n"
     ]
    },
    {
     "data": {
      "text/plain": [
       "<AxesSubplot:>"
      ]
     },
     "execution_count": 96,
     "metadata": {},
     "output_type": "execute_result"
    },
    {
     "data": {
      "image/png": "[encoded data removed]",
      "text/plain": [
       "<Figure size 432x288 with 1 Axes>"
      ]
     },
     "metadata": {
      "needs_background": "light"
     },
     "output_type": "display_data"
    }
   ],
   "source": [
    "sun_df2 = sun_df2[sun_df2['Elevation'] >= 0]\n",
    "timePointsOfSun = len(sun_df2.index)\n",
    "print(\"Timepoints with light :\",timePointsOfSun, \"Timepoints of whole Year :\",len(sun_df.index))\n",
    "\n",
    "#create graph without negatives\n",
    "%matplotlib inline\n",
    "sun_df2['Elevation'].plot()"
   ]
  },
  {
   "cell_type": "code",
   "execution_count": 98,
   "metadata": {},
   "outputs": [],
   "source": [
    "deg_z_solar_max = 90  # Elevation max\n",
    "deg_z_solar_min = 0  # Elevation min\n",
    "deg_x_solar_max = 360 # Azimuth max\n",
    "deg_x_solar_min = 0 # Azimuth min\n",
    "number_of_tries = 10000\n",
    "tally_saved = 0\n",
    "index_mine = sun_df2.index\n",
    "#print(len(index_mine))\n",
    "\n",
    "elev_column = sun_df2['Elevation']\n",
    "#print(len(elev_column))\n",
    "azim_column = sun_df2['Azimuth']\n",
    "#print(len(azim_column))"
   ]
  },
  {
   "cell_type": "markdown",
   "metadata": {},
   "source": [
    "## The test against multiple angles of the solar panel to find the optimal angle"
   ]
  },
  {
   "cell_type": "code",
   "execution_count": 99,
   "metadata": {},
   "outputs": [
    {
     "name": "stdout",
     "output_type": "stream",
     "text": [
      "Takes a lot of time\n",
      "Solar_panel_Elevation = 89 Solar_panel_Azimuth = 2\n"
     ]
    }
   ],
   "source": [
    "\n",
    "#tally2=[]\n",
    "#tallyel=[]\n",
    "#talltaz=[]\n",
    "tally_saved2=[]\n",
    "opt_elev_angle2=[]\n",
    "opt_azim_angle2=[]\n",
    "print('Takes a lot of time')\n",
    "\n",
    "for i in range(number_of_tries):\n",
    "    deg_gen_z_solar = r.randint(deg_z_solar_min,deg_z_solar_max)\n",
    "    deg_gen_x_solar = r.randint(deg_x_solar_min,deg_x_solar_max)\n",
    "    \n",
    "    #solar panel angles\n",
    "    deg_z_solar = deg_gen_z_solar #or Elevation\n",
    "    rad_z_solar = m.radians(deg_z_solar) #to radians\n",
    "    #print(rad_z_solar)\n",
    "    deg_x_solar = deg_gen_x_solar #or Azimuth\n",
    "    rad_x_solar = m.radians(deg_x_solar) #to radians\n",
    "\n",
    "    z_vector_solar = m.sin(rad_z_solar)\n",
    "    #print(\"z-vector solar\",z_vector_solar)\n",
    "    x_vector_solar = m.cos(rad_z_solar)*m.cos(rad_x_solar)\n",
    "    #print(\"x-vector solar\",x_vector_solar)\n",
    "    y_vector_solar = m.cos(rad_z_solar)*m.sin(rad_x_solar)\n",
    "    #print(\"y-vector solar\",y_vector_solar) \n",
    "    \n",
    "    tally=0\n",
    "    \n",
    "    \n",
    "    for ii in index_mine:\n",
    "        #print(rad_x_solar)\n",
    "        deg_z = elev_column[ii] #or Elevation\n",
    "        rad_z = m.radians(deg_z) #to radians\n",
    "        #print(rad_z)\n",
    "        deg_x = azim_column[ii] #or Azimuth\n",
    "        rad_x = m.radians(deg_x) #to radians\n",
    "        #print(rad_x)\n",
    "        z_vector_base = m.sin(rad_z)\n",
    "        #print(\"z-vector\",z_vector_base)\n",
    "        x_vector_base = m.cos(rad_z)*m.cos(rad_x)\n",
    "        #print(\"x-vector\",x_vector_base)\n",
    "        y_vector_base = m.cos(rad_z)*m.sin(rad_x)\n",
    "        #print(\"y-vector\",y_vector_base)\n",
    "    \n",
    "        dot_product = x_vector_base*x_vector_solar + y_vector_base*y_vector_solar + z_vector_base*z_vector_solar\n",
    "        #print(dot_product)\n",
    "        tally += dot_product\n",
    "        #tally2.append(tally)\n",
    "        #tallyel.append(deg_z)\n",
    "        #talltaz.append(deg_x)\n",
    "    if tally > tally_saved:\n",
    "        tally_saved = tally\n",
    "        tally_saved2.append(tally_saved)\n",
    "        opt_elev_angle = deg_gen_z_solar\n",
    "        opt_elev_angle2.append(opt_elev_angle)\n",
    "        opt_azim_angle = deg_gen_x_solar\n",
    "        opt_azim_angle2.append(opt_azim_angle)\n",
    "print('Solar_panel_Elevation =',opt_elev_angle,'Solar_panel_Azimuth =',opt_azim_angle)"
   ]
  },
  {
   "cell_type": "code",
   "execution_count": 89,
   "metadata": {},
   "outputs": [
    {
     "name": "stdout",
     "output_type": "stream",
     "text": [
      "5244.353420657813\n",
      "[2877.757665950786, 4642.657201844814, 5048.104584500047, 5089.916577302744, 5231.42298982305, 5241.0807354369135, 5242.840136047555, 5243.484986294228, 5244.353420657813]\n",
      "[64, 83, 47, 51, 61, 61, 60, 58, 59]\n",
      "[190, 57, 17, 20, 7, 1, 358, 360, 360]\n"
     ]
    }
   ],
   "source": [
    "#print(tally2)\n",
    "#print(tallyel)\n",
    "#print(talltaz)\n",
    "print(tally_saved)\n",
    "print(tally_saved2)\n",
    "print(opt_elev_angle2)\n",
    "print(opt_azim_angle2)"
   ]
  },
  {
   "cell_type": "markdown",
   "metadata": {},
   "source": [
    "With 10000 tries results are logical with the reality.\n",
    "Quito   elevation 89 azimuth 2 Degrees (solar panel horizontal to the ground)\n",
    "Sydney  elevation 59 azimuth 360 Degrees (looking north)\n",
    "Stirling elevation 43 azimuth 180 Degrees (looking south) (elevation closer to zero as compared to Sydney its closer to the pole)   "
   ]
  }
 ],
 "metadata": {
  "kernelspec": {
   "display_name": "Python 3",
   "language": "python",
   "name": "python3"
  },
  "language_info": {
   "codemirror_mode": {
    "name": "ipython",
    "version": 3
   },
   "file_extension": ".py",
   "mimetype": "text/x-python",
   "name": "python",
   "nbconvert_exporter": "python",
   "pygments_lexer": "ipython3",
   "version": "3.7.9"
  }
 },
 "nbformat": 4,
 "nbformat_minor": 4
}
