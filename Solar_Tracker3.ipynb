{
 "cells": [
  {
   "cell_type": "markdown",
   "metadata": {},
   "source": [
    "# Solar Azimuth and Zenith Tracker\n",
    "\n",
    "## Version 3 (Less slow and more acurate edition)\n",
    "\n",
    "Next steps: Use SIMD technology for speed up. Implement Meteorological data   \n",
    "\n",
    "Latest improvent removal of random tries towards a fixed space solution.\n",
    "This is the first app of a series, where i create simple apps to improve my programming skills.\n",
    "\n",
    "An application which tracks the sun according to the latitude and longtitude or the address (defined by google) of the location. Based on stackoverflow answers.\n",
    "\n",
    "\n",
    "Test for Stirling Scotland, Sydney Australia, Quito Ecuador"
   ]
  },
  {
   "cell_type": "markdown",
   "metadata": {},
   "source": [
    "## Asking user for location"
   ]
  },
  {
   "cell_type": "code",
   "execution_count": 34,
   "metadata": {},
   "outputs": [
    {
     "name": "stdout",
     "output_type": "stream",
     "text": [
      "Enter: 1 for address, 2 for coordinates, 0 for defaults: Quito Ecuador\n",
      "Not Valid, Enter: 1 for address, 2 for coordinates, 3 for defaults: \n",
      "Enter: 1 for address, 2 for coordinates, 0 for defaults: 1\n",
      "Enter an address: Quito Ecuador\n",
      "The address is: Quito Ecuador\n"
     ]
    }
   ],
   "source": [
    "#import astropy\n",
    "import astropy.coordinates as coord\n",
    "import astropy.units as u\n",
    "from astropy.time import Time\n",
    "\n",
    "#import random and math libraries\n",
    "import math as m\n",
    "#import random as r #Not needed anymore\n",
    "\n",
    "#import Angles convertor + numpy\n",
    "from astropy.coordinates import Angle\n",
    "import numpy as np\n",
    "\n",
    "#import utc time now\n",
    "from datetime import datetime,timezone,timedelta \n",
    "now_utc = datetime.now(timezone.utc)\n",
    "\n",
    "#import pandas\n",
    "import pandas as pd\n",
    "\n",
    "#ask user: coordinates or address\n",
    "while True:\n",
    "    try:\n",
    "        selector = int(input('Enter: 1 for address, 2 for coordinates, 0 for defaults: '))\n",
    "        break\n",
    "    except:\n",
    "        print('Not Valid, Enter: 1 for address, 2 for coordinates, 3 for defaults: ')\n",
    "#print(selector)\n",
    "\n",
    "#Option 0: defaults\n",
    "if selector == 0: \n",
    "    longt,latit,hei = 0,0,0\n",
    "    print('Longtitude:',longt , 'Latitude:',latit,'Height:',hei)\n",
    "    \n",
    "#Option 1: ask user an address\n",
    "#Work in progress for wrong addresses\n",
    "if selector == 1:\n",
    "    name = input('Enter an address: ')\n",
    "    if name == '':\n",
    "        name = 'Stirling UK'\n",
    "    print('The address is:', name)\n",
    "\n",
    "#Option 2: ask user an address\n",
    "if selector == 2 :\n",
    "    try:\n",
    "        longt = int(input('Enter longtitude or 0 for default: '))\n",
    "        if longt == 0 : longt = 01\n",
    "            \n",
    "        latit = int(input('Enter latitude or 0 for default: '))\n",
    "        if latit == 0 : latit = 0\n",
    "        hei = int(input('Enter height or 0 for default: '))\n",
    "        if hei == 0 : hei = 0\n",
    "        print('Longtitude:',longt , 'Latitude:',latit,'Height:',hei)\n",
    "    except:\n",
    "        longt,latit,hei = 0,0,0\n",
    "        print('Longtitude:',longt , 'Latitude:',latit,'Height:',hei)"
   ]
  },
  {
   "cell_type": "code",
   "execution_count": 35,
   "metadata": {},
   "outputs": [
    {
     "name": "stdout",
     "output_type": "stream",
     "text": [
      "Geocentric coordinates <<Earth diameter = 6371km>> x(greenwith),y(),z(North Pole) (1270241.92358368, -6250321.62380727, -24344.42721293) m\n"
     ]
    }
   ],
   "source": [
    "sun_time = Time(now_utc) #UTC time\n",
    "if selector == 1:\n",
    "    #print('Selector: ',selector)\n",
    "    loc = coord.EarthLocation.of_address(name) # anything the google geocoding API resolves\n",
    "if (selector == 2) or (selector == 0):\n",
    "    #print('Selector: ',selector)\n",
    "    loc = coord.EarthLocation(lon=longt,lat=latit,height=hei)\n",
    "\n",
    "print('Geocentric coordinates <<Earth diameter = 6371km>> x(greenwith),y(),z(North Pole)',loc)"
   ]
  },
  {
   "cell_type": "markdown",
   "metadata": {},
   "source": [
    "## Finding the sun, for every 30 min, for a year. for default settings"
   ]
  },
  {
   "cell_type": "code",
   "execution_count": 36,
   "metadata": {},
   "outputs": [
    {
     "name": "stdout",
     "output_type": "stream",
     "text": [
      "2020-12-28 14:27:37.647495\n",
      "Sun Elevation  Degrees now (above 0 day): 43d08m09.3555s\n",
      "Sun Azimuth    Degrees now              : 122d28m53.4566s\n",
      "Warning Long Computations\n",
      "Select number of datapoints (integer) for solar reading, choose 0 for default 17520 point : 0\n",
      "Select minutes (integer) between each solar reading, choose 0 for default 30 minutes : 0\n"
     ]
    }
   ],
   "source": [
    "sun_test_Time = Time(now_utc)\n",
    "print(sun_test_Time)\n",
    "altaz = coord.AltAz(obstime=sun_time, location=loc)\n",
    "#help(altaz)\n",
    "zen_az = coord.get_sun(sun_time).transform_to(altaz).az\n",
    "zen_alt = coord.get_sun(sun_time).transform_to(altaz).alt\n",
    "\n",
    "\n",
    "print('Sun Elevation  Degrees now (above 0 day):',zen_alt)\n",
    "print('Sun Azimuth    Degrees now              :',zen_az)\n",
    "\n",
    "# year = 365 days * 24 hours * 60 minutes = (minute definition)\n",
    "# year = 365 days * 24 hours (hours definition)\n",
    "# initiallizing lists and the timescale of study\n",
    "print('Warning Long Computations')\n",
    "while True:\n",
    "    try:\n",
    "        time_range_mine = int(input('Select number of datapoints (integer) for solar reading, choose 0 for default 17520 point : '))\n",
    "        if time_range_mine == 0:\n",
    "            time_range_mine = 17520\n",
    "        break\n",
    "    except:\n",
    "        print('Enter an integer or 0')\n",
    "        \n",
    "while True:\n",
    "    try:\n",
    "        delta_min = int(input('Select minutes (integer) between each solar reading, choose 0 for default 30 minutes : '))\n",
    "        if delta_min == 0:\n",
    "            delta_min = 30\n",
    "        break\n",
    "    except:\n",
    "        print('Enter an integer or 0')\n",
    "        \n",
    "# TAKES A LOT OF TIME\n",
    "sun_az = []\n",
    "sun_alt = []\n",
    "time_points = []\n",
    "#minutes\n",
    "for timepoint in range(time_range_mine):\n",
    "    #delta of hours\n",
    "    #\n",
    "    past_date_before = Time(now_utc) - timedelta(minutes = (delta_min * timepoint))\n",
    "    #print(past_date_before)\n",
    "    altaz = coord.AltAz(obstime=past_date_before, location=loc)\n",
    "    sun_az.append(coord.get_sun(past_date_before).transform_to(altaz).az)\n",
    "    sun_alt.append(coord.get_sun(past_date_before).transform_to(altaz).alt)\n",
    "    time_points.append(past_date_before)\n",
    "    #print('Sun Elevation Degrees (above 0 day):',zen_alt)\n",
    "    #print('Sun  Azimuth  Degrees              :',zen_ang)\n",
    "\n",
    "#converting lists to pandas     \n",
    "sun_tuple = list(zip(sun_az,sun_alt,time_points))\n",
    "sun_df = pd.DataFrame(sun_tuple, columns=['Azimuth','Elevation','Time'])"
   ]
  },
  {
   "cell_type": "markdown",
   "metadata": {},
   "source": [
    "## Before and after angle transformation"
   ]
  },
  {
   "cell_type": "code",
   "execution_count": 37,
   "metadata": {},
   "outputs": [
    {
     "name": "stdout",
     "output_type": "stream",
     "text": [
      "           Azimuth       Elevation                        Time\n",
      "0  122d28m53.4566s  43d08m09.3555s  2020-12-28 14:27:37.647495\n",
      "1  119d17m12.8462s  36d41m45.7936s  2020-12-28 13:57:37.647495\n",
      "2  116d58m59.7452s  30d04m50.1843s  2020-12-28 13:27:37.647495\n",
      "3  115d20m49.0331s  23d20m54.7084s  2020-12-28 12:57:37.647495\n",
      "4  114d14m04.1156s  16d32m23.0144s  2020-12-28 12:27:37.647495\n",
      "   Azimuth Elevation                        Time\n",
      "0  122.482   43.1359  2020-12-28 14:27:37.647495\n",
      "1  119.287   36.6961  2020-12-28 13:57:37.647495\n",
      "2  116.983   30.0806  2020-12-28 13:27:37.647495\n",
      "3  115.347   23.3485  2020-12-28 12:57:37.647495\n",
      "4  114.234   16.5397  2020-12-28 12:27:37.647495\n"
     ]
    },
    {
     "data": {
      "text/plain": [
       "<AxesSubplot:>"
      ]
     },
     "execution_count": 37,
     "metadata": {},
     "output_type": "execute_result"
    },
    {
     "data": {
      "image/png": "[encoded data removed]",
      "text/plain": [
       "<Figure size 432x288 with 1 Axes>"
      ]
     },
     "metadata": {
      "needs_background": "light"
     },
     "output_type": "display_data"
    }
   ],
   "source": [
    "print(sun_df.head())\n",
    "sun_df2 = sun_df.copy()\n",
    "\n",
    "#print(type(sun_df2['Azimuth'][0]))\n",
    "#var_test = Angle(sun_df2['Azimuth'][0]).degree\n",
    "#print(var_test)\n",
    "for i in range(len(sun_df2.index)):\n",
    "    sun_df2['Azimuth'][i] = Angle(sun_df2['Azimuth'][i]).degree\n",
    "    sun_df2['Elevation'][i] = Angle(sun_df2['Elevation'][i]).degree\n",
    "#print(type(sun_df2['Azimuth'][0]))\n",
    "#print(type(sun_df2['Time'][0]))\n",
    "print(sun_df2.head())\n",
    "#create graph\n",
    "%matplotlib inline\n",
    "sun_df2['Elevation'].plot()"
   ]
  },
  {
   "cell_type": "code",
   "execution_count": 38,
   "metadata": {},
   "outputs": [
    {
     "data": {
      "text/plain": [
       "<AxesSubplot:>"
      ]
     },
     "execution_count": 38,
     "metadata": {},
     "output_type": "execute_result"
    },
    {
     "data": {
      "image/png": "[encoded data removed]",
      "text/plain": [
       "<Figure size 432x288 with 1 Axes>"
      ]
     },
     "metadata": {
      "needs_background": "light"
     },
     "output_type": "display_data"
    }
   ],
   "source": [
    "sun_df2['Azimuth'].plot()"
   ]
  },
  {
   "cell_type": "code",
   "execution_count": 39,
   "metadata": {},
   "outputs": [
    {
     "name": "stdout",
     "output_type": "stream",
     "text": [
      "Timepoints with light : 8778 Timepoints of whole Year : 17520\n"
     ]
    },
    {
     "data": {
      "text/plain": [
       "<AxesSubplot:>"
      ]
     },
     "execution_count": 39,
     "metadata": {},
     "output_type": "execute_result"
    },
    {
     "data": {
      "image/png": "[encoded data removed]",
      "text/plain": [
       "<Figure size 432x288 with 1 Axes>"
      ]
     },
     "metadata": {
      "needs_background": "light"
     },
     "output_type": "display_data"
    }
   ],
   "source": [
    "sun_df2 = sun_df2[sun_df2['Elevation'] >= 0]\n",
    "timePointsOfSun = len(sun_df2.index)\n",
    "print(\"Timepoints with light :\",timePointsOfSun, \"Timepoints of whole Year :\",len(sun_df.index))\n",
    "\n",
    "#create graph without negatives\n",
    "%matplotlib inline\n",
    "sun_df2['Elevation'].plot()"
   ]
  },
  {
   "cell_type": "code",
   "execution_count": 40,
   "metadata": {},
   "outputs": [],
   "source": [
    "deg_z_solar_max = 90  # Elevation max\n",
    "deg_z_solar_min = 0  # Elevation min\n",
    "deg_x_solar_max = 360 # Azimuth max\n",
    "deg_x_solar_min = 0 # Azimuth min\n",
    "# size of integer space is 90 * 360 = 32400\n",
    "number_of_tries = 32400\n",
    "tally_saved = 0\n",
    "index_mine = sun_df2.index\n",
    "#print(len(index_mine))\n",
    "\n",
    "elev_column = sun_df2['Elevation']\n",
    "#print(len(elev_column))\n",
    "azim_column = sun_df2['Azimuth']\n",
    "#print(len(azim_column))"
   ]
  },
  {
   "cell_type": "markdown",
   "metadata": {},
   "source": [
    "## The test against multiple angles of the solar panel to find the optimal angle"
   ]
  },
  {
   "cell_type": "code",
   "execution_count": 41,
   "metadata": {},
   "outputs": [
    {
     "name": "stdout",
     "output_type": "stream",
     "text": [
      "Takes a lot of time\n",
      "Solar_panel_Elevation = 89 Solar_panel_Azimuth = 5\n"
     ]
    }
   ],
   "source": [
    "print('Takes a lot of time')\n",
    "\n",
    "\n",
    "    \n",
    "for i in range(number_of_tries):\n",
    "    #old version\n",
    "    #deg_gen_z_solar = r.randint(deg_z_solar_min,deg_z_solar_max)\n",
    "    #deg_gen_x_solar = r.randint(deg_x_solar_min,deg_x_solar_max)\n",
    "    \n",
    "    #new full space of integers + minor performance boost\n",
    "    deg_gen_z_solar = i // 360\n",
    "    deg_gen_x_solar = i % 360\n",
    "    \n",
    "    #solar panel angles\n",
    "    deg_z_solar = deg_gen_z_solar #or Elevation\n",
    "    rad_z_solar = m.radians(deg_z_solar) #to radians\n",
    "    deg_x_solar = deg_gen_x_solar #or Azimuth\n",
    "    rad_x_solar = m.radians(deg_x_solar) #to radians\n",
    "\n",
    "    z_vector_solar = m.sin(rad_z_solar)\n",
    "    x_vector_solar = m.cos(rad_z_solar)*m.cos(rad_x_solar)\n",
    "    y_vector_solar = m.cos(rad_z_solar)*m.sin(rad_x_solar) \n",
    "    \n",
    "    tally=0\n",
    "    \n",
    "    for ii in index_mine:\n",
    "        deg_z = elev_column[ii] #or Elevation\n",
    "        rad_z = m.radians(deg_z) #to radians\n",
    "        deg_x = azim_column[ii] #or Azimuth\n",
    "        rad_x = m.radians(deg_x) #to radians\n",
    "        z_vector_base = m.sin(rad_z)\n",
    "        x_vector_base = m.cos(rad_z)*m.cos(rad_x)\n",
    "        y_vector_base = m.cos(rad_z)*m.sin(rad_x)\n",
    "        dot_product = x_vector_base*x_vector_solar + y_vector_base*y_vector_solar + z_vector_base*z_vector_solar\n",
    "        tally += dot_product\n",
    "    if tally > tally_saved:\n",
    "        tally_saved = tally\n",
    "        opt_elev_angle = deg_gen_z_solar\n",
    "        opt_azim_angle = deg_gen_x_solar\n",
    "print('Solar_panel_Elevation =',opt_elev_angle,'Solar_panel_Azimuth =',opt_azim_angle)"
   ]
  },
  {
   "cell_type": "markdown",
   "metadata": {},
   "source": [
    "Version 3 \n",
    "Sydney Elevation 59 Azimuth 0 (looking north)\n",
    "Stirling Elevation 43 Azimuth 180 (looking south) (elevation closer to zero as compared to Sydney its closer to the pole)   \n",
    "Quito Elevation 89 Azimuth 5 (solar panel horizontal to the ground)"
   ]
  }
 ],
 "metadata": {
  "kernelspec": {
   "display_name": "Python 3",
   "language": "python",
   "name": "python3"
  },
  "language_info": {
   "codemirror_mode": {
    "name": "ipython",
    "version": 3
   },
   "file_extension": ".py",
   "mimetype": "text/x-python",
   "name": "python",
   "nbconvert_exporter": "python",
   "pygments_lexer": "ipython3",
   "version": "3.7.9"
  }
 },
 "nbformat": 4,
 "nbformat_minor": 4
}
