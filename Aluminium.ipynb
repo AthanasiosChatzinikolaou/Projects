{
 "cells": [
  {
   "cell_type": "markdown",
   "metadata": {},
   "source": [
    "# Furnace energy use\n",
    "As it's complicated to find exact data for plastic use, I am going to use as a concept how much plastic a human uses if his water intake was all from plastic or aluminium per day. \n",
    "An important finding is that due to Stefan Boltzmann law the size of the chamber needs to be minimal around 1 liter without some special coating so it needs compression"
   ]
  },
  {
   "cell_type": "code",
   "execution_count": 34,
   "metadata": {},
   "outputs": [
    {
     "name": "stdout",
     "output_type": "stream",
     "text": [
      "Imaginary daily plastic use (gr):81.4 Versus aluminum use (gr) :157.0 A mass increase of (%):92.8\n",
      "Imaginary weekly aluminium use (gr):1098.8\n"
     ]
    }
   ],
   "source": [
    "can_weight_gr = 14 # 330 ml aluminium can\n",
    "al_can_vol = 330\n",
    "plastic_bottle_gr = 11 # 500 ml plastic bottle\n",
    "plastic_bottle_vol = 500\n",
    "water_human_gr = 3700 # water use per day ml male\n",
    "plastic_per_day = water_human_gr * plastic_bottle_gr / plastic_bottle_vol\n",
    "aluminium_per_day = water_human_gr * can_weight_gr / al_can_vol\n",
    "aluminium_per_week = aluminium_per_day * 7\n",
    "alum_increase = aluminium_per_day - plastic_per_day\n",
    "percent_increase = alum_increase * 100 / plastic_per_day\n",
    "\n",
    "print(\"Imaginary daily plastic use (gr):{} Versus aluminum use (gr) :{:.1f} A mass increase of (%):{:.1f}\".format(plastic_per_day,aluminium_per_day,percent_increase))\n",
    "print(\"Imaginary weekly aluminium use (gr):{:.1f}\".format(aluminium_per_week))"
   ]
  },
  {
   "cell_type": "code",
   "execution_count": 70,
   "metadata": {},
   "outputs": [
    {
     "name": "stdout",
     "output_type": "stream",
     "text": [
      "Peak power loss :2558\n",
      "Energy to melt aluminium (per week)(without loses): 1067450 Joules or 0.297 KWh\n",
      "Energy to heat steel (per week)(without loses): 270777 or 0.075KWh\n",
      "Black body radiation Watts at peak temperature\n",
      "Time to heat 219 Time at Temperature 178 Total time 397\n",
      "Total energy KWh 0.552\n"
     ]
    }
   ],
   "source": [
    "# Energy required to melt aluminium in ideal conditions\n",
    "\n",
    "ar_alum = 27 # Aluminium Ar\n",
    "moles = aluminium_per_week / ar_alum # Moles of aluminium per week\n",
    "molar_heat_j = 24.20 # Molar Heat capacity joule / K * mole\n",
    "molar_fusion = 10710 # Fusion energy joule /  mole\n",
    "temp_celsius = 19 # Mean home temperature 19 C\n",
    "temp_mean = temp_celsius + 273.15\n",
    "temp_melting_point_celsius = 660.32 # Temperature of aluminium melting point\n",
    "temp_melting_point_kelvin = temp_melting_point_celsius + 273.15\n",
    "temp_delta = temp_melting_point_kelvin - temp_mean # Temperature delta between home and melting point  \n",
    "energy_to_temp = temp_delta * molar_heat_j * moles# Energy to reach that temperature joules\n",
    "energy_to_melt = molar_fusion * moles # Energy to melt\n",
    "energy_without_loses = energy_to_temp + energy_to_melt # Total energy without loses\n",
    "energy_without_loses_kwh = energy_without_loses / (60*60*1000)# Joules to KWh\n",
    "\n",
    "#Container\n",
    "# Heating container made of 1 mm steel \n",
    "# Definately needs compression before heating as radiative heating creates an upper limit\n",
    "area_of_steel = 10 * 10 * 6 / (100*100) # 6 sides\n",
    "# volume of container = 1 litre \n",
    "weight_1mm = 7850*2 # 2m^2 steel weight 1mm thickness\n",
    "weight_of_steel = area_of_steel * weight_1mm \n",
    "ar_steel = 56# Iron Ar\n",
    "molar_heat_steel_j = 25.10 # Molar Heat capacity joule / K * mole\n",
    "moles_steel = weight_of_steel / ar_steel # Moles of iron\n",
    "energy_to_temp_steel = temp_delta * molar_heat_steel_j * moles_steel # Energy to heat iron\n",
    "energy_container_kwh = energy_to_temp_steel / (60*60*1000) # Energy in kwh container\n",
    "\n",
    "\n",
    "#Radiative loses\n",
    "boltz = 5.670373 * 10**(-8) #Boltzmann constant Watts/(Meter*Kelvin^4)\n",
    "e = 1 #Emissivity 1\n",
    "rad_power = e * area_of_steel * boltz * ((temp_melting_point_kelvin**4)-(temp_mean**4)) #Power loss\n",
    "print(\"Peak power loss :{:.0f}\".format(rad_power),)\n",
    "#Energy to melt aluminium\n",
    "print(\"Energy to melt aluminium (per week)(without loses): {:.0f} Joules or {:.3f} KWh\".format(energy_without_loses,energy_without_loses_kwh))\n",
    "#Energy to heat container\n",
    "print(\"Energy to heat steel (per week)(without loses): {:.0f} or {:.3f}KWh\".format(energy_to_temp_steel,energy_container_kwh))\n",
    "print(\"Black body radiation Watts at peak temperature\")#Radiative loses\n",
    "\n",
    "\n",
    "watts = 5000 # Power input Watts\n",
    "joule_sec = watts * 1 # joules per second\n",
    "time_run = 1000 # seconds max run\n",
    "joules_per_kelvin = molar_heat_steel_j * moles_steel + molar_heat_j * moles # up to melting temp 660 \n",
    "\n",
    "temp = temp_mean\n",
    "for i in range(time_run):\n",
    "    rad_power_2 = e * area_of_steel * boltz * ((temp**4)-(temp_mean**4))\n",
    "    \n",
    "    if temp < temp_melting_point_kelvin:\n",
    "        joule_sec_2 = joule_sec - rad_power_2\n",
    "        kelvin_increase = joule_sec_2 / joules_per_kelvin\n",
    "        temp = temp + kelvin_increase\n",
    "    else:\n",
    "        time = i\n",
    "        break\n",
    "time2 = energy_to_melt / joule_sec_2 \n",
    "total = time + time2\n",
    "print(\"Time to heat\",time,\"Time at Temperature {:.0f}\".format(time2),\"Total time {:.0f}\".format(total))\n",
    "energy_usage = (total * watts)/(60*60*1000)\n",
    "print(\"Total energy KWh {:.3f}\".format(energy_usage))\n"
   ]
  },
  {
   "cell_type": "markdown",
   "metadata": {},
   "source": [
    "This furnace would have two limits: One would be its surface area as due to boltzmann law it has to be minimized so its volume would have to be around a litre (1L) unless, special silver polished coatings would be used to decrease the emissivity. The second would be the need to have high peek power around a 5 KW to reach temperature fast and melt the aluminium. At less than 2.5 kw without coating it would be impossible to work.\n",
    "It's total energy would be then around 0.55 KWh which is around half a shower use, which would make it viable. \n",
    "Still the need of a aluminium press would complicate its construction, and make it more expensive."
   ]
  }
 ],
 "metadata": {
  "kernelspec": {
   "display_name": "Python 3",
   "language": "python",
   "name": "python3"
  },
  "language_info": {
   "codemirror_mode": {
    "name": "ipython",
    "version": 3
   },
   "file_extension": ".py",
   "mimetype": "text/x-python",
   "name": "python",
   "nbconvert_exporter": "python",
   "pygments_lexer": "ipython3",
   "version": "3.7.9"
  }
 },
 "nbformat": 4,
 "nbformat_minor": 4
}
